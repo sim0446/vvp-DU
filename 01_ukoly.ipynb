{
 "cells": [
  {
   "cell_type": "code",
   "execution_count": 65,
   "metadata": {},
   "outputs": [],
   "source": [
    "# 1. část úkolu\n",
    "\n",
    "def odmocnina(a, n):\n",
    "    x = a\n",
    "    while n > 0:\n",
    "        x = (a / x + x) / 2\n",
    "        n -= 1\n",
    "    return x\n"
   ]
  },
  {
   "cell_type": "code",
   "execution_count": null,
   "metadata": {},
   "outputs": [],
   "source": [
    "# porovnání výsledků 1. části\n",
    "\n",
    "import math\n",
    "\n",
    "cisla = [2, 5, 9, 16, 25, 49]\n",
    "pocet_iteraci = 5\n",
    "\n",
    "for i in cisla:\n",
    "    print(\"Odmocnina z \", i,\": aproximace_odmocniny = \", odmocnina(i, pocet_iteraci), \" skutečná hodnota = \", math.sqrt(i))\n"
   ]
  },
  {
   "cell_type": "code",
   "execution_count": null,
   "metadata": {},
   "outputs": [],
   "source": [
    "# 2. část úkolu\n",
    "\n",
    "def obsah(n):\n",
    "    a_n = 1\n",
    "    b_n = 1\n",
    "    v_n = odmocnina(a_n ** 2 - (b_n / 2) ** 2, 100)\n",
    "    \n",
    "    for j in range(n):\n",
    "        a_2n = a_n\n",
    "        b_2n = odmocnina((b_n / 2) ** 2 + (1 - v_n) ** 2, 100)\n",
    "        v_2n = odmocnina(a_2n ** 2 - (b_2n / 2) ** 2, 100)\n",
    "        S_n = 6 * b_2n * v_2n * 2 ** j\n",
    "        b_n, v_n = b_2n, v_2n\n",
    "    \n",
    "    return S_n\n"
   ]
  },
  {
   "cell_type": "code",
   "execution_count": null,
   "metadata": {},
   "outputs": [],
   "source": [
    "# porovnání výsledků 2. části\n",
    "\n",
    "hodnoty = [5, 10, 15, 20]\n",
    "\n",
    "for n in hodnoty:\n",
    "    print(\"Aproximace π pro n = \", n, \": \", obsah(n), \" skutečná hodnota π: \", math.pi)\n"
   ]
  },
  {
   "cell_type": "code",
   "execution_count": null,
   "metadata": {},
   "outputs": [],
   "source": [
    "# 3. část úkolu\n",
    "\n",
    "def aproximace_pi(n):\n",
    "    a_1 = 1 / (2 * 2 ** 3)\n",
    "    a_i = a_1\n",
    "    soucet = 1 / 3 * a_1\n",
    "\n",
    "    for i in range(2, n):\n",
    "        a_i = a_i * ((2 * i - 3) / (2 * i)) * (1 / 4)\n",
    "        soucet = soucet + (1 / (2 * i + 1) * a_i)\n",
    "    \n",
    "    pi = 12 * (- odmocnina(3, 1000) / 8 + 1 / 2 - soucet)\n",
    "\n",
    "    return pi\n"
   ]
  },
  {
   "cell_type": "code",
   "execution_count": null,
   "metadata": {},
   "outputs": [],
   "source": [
    "# Porovnání výsledků 3. části\n",
    "\n",
    "hodnoty = [1, 5, 10, 50, 100]\n",
    "\n",
    "for n in hodnoty:\n",
    "    print(\"Newtonova aproximace π pro n = \", n,\": \", aproximace_pi(n),\", skutečná hodnota π: \",math.pi)\n"
   ]
  }
 ],
 "metadata": {
  "kernelspec": {
   "display_name": "Python 3",
   "language": "python",
   "name": "python3"
  },
  "language_info": {
   "codemirror_mode": {
    "name": "ipython",
    "version": 3
   },
   "file_extension": ".py",
   "mimetype": "text/x-python",
   "name": "python",
   "nbconvert_exporter": "python",
   "pygments_lexer": "ipython3",
   "version": "3.11.9"
  }
 },
 "nbformat": 4,
 "nbformat_minor": 2
}
